{
 "cells": [
  {
   "cell_type": "markdown",
   "metadata": {},
   "source": [
    "# Du-Proprio ML Project\n",
    "### Data Innovation Society\n",
    "#### Matteo Esposito, Victor Debray, Edric Jung\n",
    "\n",
    "> TODO\n",
    "* ~~Preprocess Data for Geocoding (fix wrongly formatted addresses or remove)~~\n",
    "* Geocode (find postal codes using addresses)\n",
    "* Exploratory data analysis\n",
    "* Model (NN)\n",
    "* Metrics"
   ]
  },
  {
   "cell_type": "markdown",
   "metadata": {},
   "source": [
    "## Imports"
   ]
  },
  {
   "cell_type": "code",
   "execution_count": 1,
   "metadata": {},
   "outputs": [],
   "source": [
    "import numpy as np\n",
    "import pandas as pd\n",
    "import matplotlib.pyplot as plt\n",
    "import os\n",
    "import re\n",
    "\n",
    "%matplotlib inline"
   ]
  },
  {
   "cell_type": "code",
   "execution_count": 2,
   "metadata": {},
   "outputs": [],
   "source": [
    "import warnings\n",
    "warnings.filterwarnings(\"ignore\", 'This pattern has match groups')"
   ]
  },
  {
   "cell_type": "code",
   "execution_count": 3,
   "metadata": {},
   "outputs": [],
   "source": [
    "# Load data\n",
    "df = pd.read_csv(os.getcwd() + '/data/du_proprio_scraped_FULL.csv')"
   ]
  },
  {
   "cell_type": "markdown",
   "metadata": {},
   "source": [
    "## Data Preprocessing"
   ]
  },
  {
   "cell_type": "code",
   "execution_count": 4,
   "metadata": {},
   "outputs": [],
   "source": [
    "def displayAll(df):\n",
    "    '''\n",
    "    Function to ensure custom output of table information. \n",
    "    '''\n",
    "    with pd.option_context('display.max_rows', 20):\n",
    "        with pd.option_context('display.max_columns', 20):\n",
    "            display(df)"
   ]
  },
  {
   "cell_type": "code",
   "execution_count": 5,
   "metadata": {},
   "outputs": [
    {
     "name": "stdout",
     "output_type": "stream",
     "text": [
      "<class 'pandas.core.frame.DataFrame'>\n",
      "RangeIndex: 19799 entries, 0 to 19798\n",
      "Data columns (total 7 columns):\n",
      "Rent Price            19799 non-null object\n",
      "Address               19701 non-null object\n",
      "Location              19799 non-null object\n",
      "Number of Bed         19799 non-null int64\n",
      "Number of Bath        19799 non-null object\n",
      "Living Area (ft^2)    19799 non-null int64\n",
      "Land Area (ft^2)      19799 non-null int64\n",
      "dtypes: int64(3), object(4)\n",
      "memory usage: 1.1+ MB\n"
     ]
    }
   ],
   "source": [
    "df.info()"
   ]
  },
  {
   "cell_type": "code",
   "execution_count": 6,
   "metadata": {},
   "outputs": [],
   "source": [
    "# Removing rows with NAN addresses = 98/19799 rows.\n",
    "df = df[pd.notnull(df['Address'])]"
   ]
  },
  {
   "cell_type": "code",
   "execution_count": 15,
   "metadata": {
    "collapsed": true
   },
   "outputs": [
    {
     "data": {
      "text/plain": [
       "Modèle à construire - Par les Constructions André Jacques inc.    4\n",
       "chemin des Hauteurs                                               4\n",
       "Montée du Cerf                                                    4\n",
       "12370, rue Jean-Baptiste-Normand                                  3\n",
       "4776-4774, AV PALM                                                3\n",
       "Projet domiciliaire Le Majordome - Chemin James-McFaul            3\n",
       "4560, rue Bosco                                                   3\n",
       "rue Bellevue - Par Construction C.R.D                             3\n",
       "rue Kildare - Par Construction C.R.D                              3\n",
       ", Domaine Lévesque                                                3\n",
       "Le Gardenville - Unité 2-111                                      3\n",
       "2605, chemin Ste-Foy                                              3\n",
       "51, avenue Au Pied de la Côte                                     3\n",
       "1, rue Félix-Leclerc                                              3\n",
       "1320, AV DES MELEZES                                              3\n",
       "Chemin des Cerisiers                                              3\n",
       "1873, RUE DES BECS-SCIES                                          3\n",
       "135, rue Principale                                               3\n",
       "285, RUE LABERGE                                                  3\n",
       "À construire - Par Gestion C.Clermont                             3\n",
       "rang Sainte-Catherine                                             3\n",
       "chemin Abercrombie                                                3\n",
       "12, rue Principale Ouest                                          2\n",
       ", chemin Morgan                                                   2\n",
       "775, route Henderson                                              2\n",
       "121, rue de Lévis                                                 2\n",
       "Chemin des Hautes-Chutes                                          2\n",
       "19, rue des Voiliers                                              2\n",
       "257, 3e Rang Sud                                                  2\n",
       ", route Maltais                                                   2\n",
       "                                                                 ..\n",
       "8, place Del Balso                                                1\n",
       "417, rue Jean-Rioux                                               1\n",
       "761-765 rue Saint-Christophe                                      1\n",
       "82, rue Principale Nord                                           1\n",
       "391, rue de Lucerne                                               1\n",
       "159, rue de la Grande-Ourse - Quartier Sacré-Coeur                1\n",
       "273, chemin du Fleuve                                             1\n",
       "22, rue Guy                                                       1\n",
       "2095, chemin de l'Achigan Est                                     1\n",
       "26, Carré Trépanier                                               1\n",
       "169, Grande-Allée                                                 1\n",
       "10, rue Bellevue                                                  1\n",
       "2795, rue le Moyne                                                1\n",
       "4848 rue Adam                                                     1\n",
       "1588, rue des Geais-Bleus                                         1\n",
       "899, rue des Lacs                                                 1\n",
       "1018, rue des Genévriers                                          1\n",
       "104, rue Roy                                                      1\n",
       "R-231, rue Principale                                             1\n",
       "4561, rue des Cèdres                                              1\n",
       "299, rue Davidson Ouest                                           1\n",
       "7730, rue Fonteneau                                               1\n",
       "3255, route Jacques-Cartier                                       1\n",
       "944, rue des Raffineurs                                           1\n",
       "2805, Rue du Marechal                                             1\n",
       "1061, rue des Élans                                               1\n",
       "A-B-883, rue Saint-Louis                                          1\n",
       "7109, rue des Géraniums                                           1\n",
       "87, chemin Bitobi                                                 1\n",
       "1320, rue Grimaldi                                                1\n",
       "Name: Address, Length: 19578, dtype: int64"
      ]
     },
     "execution_count": 15,
     "metadata": {},
     "output_type": "execute_result"
    }
   ],
   "source": [
    "# Get an idea of what type of addresses we are dealing with\n",
    "df['Address'].value_counts()"
   ]
  },
  {
   "cell_type": "code",
   "execution_count": 8,
   "metadata": {},
   "outputs": [],
   "source": [
    "# Define boolean variable to flag entries/addresses that do not respect the digit + \",\" + char format\n",
    "# Doing this to be able to work fluidly with postal code API\n",
    "df['respects_dt_format'] = df.Address.str.contains('([0-9]+,)(.*[a-zA-Z]+)')"
   ]
  },
  {
   "cell_type": "code",
   "execution_count": 9,
   "metadata": {},
   "outputs": [
    {
     "name": "stdout",
     "output_type": "stream",
     "text": [
      "% of wrongly formatted rows: 6.812 %\n"
     ]
    }
   ],
   "source": [
    "# Create table of bad addresses\n",
    "df_unformatted = df[df['respects_dt_format'] == False]\n",
    "print('% of wrongly formatted rows: {} %'.format(round(100*len(df_unformatted)/len(df),3)))"
   ]
  },
  {
   "cell_type": "code",
   "execution_count": 10,
   "metadata": {},
   "outputs": [
    {
     "data": {
      "text/plain": [
       "Modèle à construire - Par les Constructions André Jacques inc.              4\n",
       "Montée du Cerf                                                              4\n",
       "chemin des Hauteurs                                                         4\n",
       "Le Gardenville - Unité 2-111                                                3\n",
       "rue Bellevue - Par Construction C.R.D                                       3\n",
       "rue Kildare - Par Construction C.R.D                                        3\n",
       "Chemin des Cerisiers                                                        3\n",
       "chemin Abercrombie                                                          3\n",
       "rang Sainte-Catherine                                                       3\n",
       "Projet domiciliaire Le Majordome - Chemin James-McFaul                      3\n",
       "                                                                           ..\n",
       ", chemin du Lac Creux                                                       1\n",
       "1653-1661-1665 rue Girouard Ouest                                           1\n",
       ", boulevard Sainte-Anne                                                     1\n",
       ", chemin Gascon                                                             1\n",
       ", chemin Légaré                                                             1\n",
       "X, Chemin du Lac-Saint-Louis Est                                            1\n",
       ", avenue A. Bertrand                                                        1\n",
       ", chemin Saint-Charles                                                      1\n",
       "80-82-84-86                                                                 1\n",
       "Chemin du Grand-Bois - À CONSTRUIRE -  Par Constructions Première Classe    1\n",
       "Name: Address, Length: 1288, dtype: int64"
      ]
     },
     "metadata": {},
     "output_type": "display_data"
    }
   ],
   "source": [
    "# Look at bad entries\n",
    "displayAll(df_unformatted['Address'].value_counts())"
   ]
  },
  {
   "cell_type": "code",
   "execution_count": 11,
   "metadata": {},
   "outputs": [
    {
     "name": "stdout",
     "output_type": "stream",
     "text": [
      "% of well formatted rows: 93.188 %\n"
     ]
    }
   ],
   "source": [
    "df_well_formatted = df[df['respects_dt_format'] == True]\n",
    "print('% of well formatted rows: {} %'.format(round(100*len(df_well_formatted)/len(df),3)))"
   ]
  },
  {
   "cell_type": "code",
   "execution_count": 12,
   "metadata": {},
   "outputs": [
    {
     "data": {
      "text/plain": [
       "Modèle à construire - Par les Constructions André Jacques inc.              4\n",
       "Montée du Cerf                                                              4\n",
       "chemin des Hauteurs                                                         4\n",
       "Le Gardenville - Unité 2-111                                                3\n",
       "rue Bellevue - Par Construction C.R.D                                       3\n",
       "rue Kildare - Par Construction C.R.D                                        3\n",
       "Chemin des Cerisiers                                                        3\n",
       "chemin Abercrombie                                                          3\n",
       "rang Sainte-Catherine                                                       3\n",
       "Projet domiciliaire Le Majordome - Chemin James-McFaul                      3\n",
       "                                                                           ..\n",
       ", chemin du Lac Creux                                                       1\n",
       "1653-1661-1665 rue Girouard Ouest                                           1\n",
       ", boulevard Sainte-Anne                                                     1\n",
       ", chemin Gascon                                                             1\n",
       ", chemin Légaré                                                             1\n",
       "X, Chemin du Lac-Saint-Louis Est                                            1\n",
       ", avenue A. Bertrand                                                        1\n",
       ", chemin Saint-Charles                                                      1\n",
       "80-82-84-86                                                                 1\n",
       "Chemin du Grand-Bois - À CONSTRUIRE -  Par Constructions Première Classe    1\n",
       "Name: Address, Length: 1288, dtype: int64"
      ]
     },
     "metadata": {},
     "output_type": "display_data"
    }
   ],
   "source": [
    "# Look at good entries\n",
    "displayAll(df_unformatted['Address'].value_counts())"
   ]
  },
  {
   "cell_type": "code",
   "execution_count": 13,
   "metadata": {},
   "outputs": [],
   "source": [
    "# Output and save 'clean' table for postal code lookups.\n",
    "# Basically just dropping bad rows, since < 7% of total data.\n",
    "df_well_formatted = df_well_formatted.drop(['respects_dt_format'], axis=1)\n",
    "df_well_formatted.to_csv(os.getcwd() + '/data/du_proprio_clean.csv')"
   ]
  },
  {
   "cell_type": "code",
   "execution_count": null,
   "metadata": {},
   "outputs": [],
   "source": []
  }
 ],
 "metadata": {
  "kernelspec": {
   "display_name": "Python 3",
   "language": "python",
   "name": "python3"
  },
  "language_info": {
   "codemirror_mode": {
    "name": "ipython",
    "version": 3
   },
   "file_extension": ".py",
   "mimetype": "text/x-python",
   "name": "python",
   "nbconvert_exporter": "python",
   "pygments_lexer": "ipython3",
   "version": "3.6.6"
  }
 },
 "nbformat": 4,
 "nbformat_minor": 2
}
