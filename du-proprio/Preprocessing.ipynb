{
 "cells": [
  {
   "cell_type": "markdown",
   "metadata": {},
   "source": [
    "# Preprocess Data for Geocoding"
   ]
  },
  {
   "cell_type": "code",
   "execution_count": 10,
   "metadata": {},
   "outputs": [],
   "source": [
    "import numpy as np\n",
    "import pandas as pd\n",
    "import matplotlib.pyplot as plt\n",
    "import os\n",
    "import re\n",
    "\n",
    "%matplotlib inline"
   ]
  },
  {
   "cell_type": "code",
   "execution_count": 4,
   "metadata": {},
   "outputs": [
    {
     "name": "stdout",
     "output_type": "stream",
     "text": [
      "Preprocessing.ipynb         du_proprio_scraped_FULL.csv\r\n",
      "du_proprio_scraped.csv      du_proprio_scraper.py\r\n"
     ]
    }
   ],
   "source": [
    "!ls"
   ]
  },
  {
   "cell_type": "code",
   "execution_count": 6,
   "metadata": {},
   "outputs": [],
   "source": [
    "# Load data\n",
    "df = pd.read_csv(os.getcwd() + '/du_proprio_scraped_FULL.csv')"
   ]
  },
  {
   "cell_type": "code",
   "execution_count": 25,
   "metadata": {},
   "outputs": [
    {
     "name": "stdout",
     "output_type": "stream",
     "text": [
      "<class 'pandas.core.frame.DataFrame'>\n",
      "RangeIndex: 19799 entries, 0 to 19798\n",
      "Data columns (total 7 columns):\n",
      "Rent Price            19799 non-null object\n",
      "Address               19701 non-null object\n",
      "Location              19799 non-null object\n",
      "Number of Bed         19799 non-null int64\n",
      "Number of Bath        19799 non-null object\n",
      "Living Area (ft^2)    19799 non-null int64\n",
      "Land Area (ft^2)      19799 non-null int64\n",
      "dtypes: int64(3), object(4)\n",
      "memory usage: 1.1+ MB\n"
     ]
    }
   ],
   "source": [
    "df.info()"
   ]
  },
  {
   "cell_type": "code",
   "execution_count": 9,
   "metadata": {
    "collapsed": true
   },
   "outputs": [
    {
     "data": {
      "text/plain": [
       "Montée du Cerf                                                    4\n",
       "chemin des Hauteurs                                               4\n",
       "Modèle à construire - Par les Constructions André Jacques inc.    4\n",
       "chemin Abercrombie                                                3\n",
       "rue Kildare - Par Construction C.R.D                              3\n",
       "285, RUE LABERGE                                                  3\n",
       "1320, AV DES MELEZES                                              3\n",
       "4560, rue Bosco                                                   3\n",
       "135, rue Principale                                               3\n",
       "rue Bellevue - Par Construction C.R.D                             3\n",
       ", Domaine Lévesque                                                3\n",
       "1, rue Félix-Leclerc                                              3\n",
       "4776-4774, AV PALM                                                3\n",
       "rang Sainte-Catherine                                             3\n",
       "Projet domiciliaire Le Majordome - Chemin James-McFaul            3\n",
       "1873, RUE DES BECS-SCIES                                          3\n",
       "Chemin des Cerisiers                                              3\n",
       "2605, chemin Ste-Foy                                              3\n",
       "À construire - Par Gestion C.Clermont                             3\n",
       "12370, rue Jean-Baptiste-Normand                                  3\n",
       "51, avenue Au Pied de la Côte                                     3\n",
       "Le Gardenville - Unité 2-111                                      3\n",
       "1230, rue Notre-Dame                                              2\n",
       "31, rue Bellevue - Par Construction C.R.D inc.                    2\n",
       "rue Boréale - Modèle à construire                                 2\n",
       "boulevard Amsterdam - Phase 52 - Par Solico Construction          2\n",
       "160, rue des Geais Bleus                                          2\n",
       "515, rue Principale                                               2\n",
       ", rue du Mont-Plaisant                                            2\n",
       "312, rue Principale                                               2\n",
       "                                                                 ..\n",
       "rue Bellevue - Par Construction C.R.D inc.                        1\n",
       "1-1681, boulevard Saint-René Est                                  1\n",
       "605-607, rue Saint-Alexandre                                      1\n",
       "1003, rue principale                                              1\n",
       "241, chemin de Vale-Perkins                                       1\n",
       "6, rue Olivier Pagé                                               1\n",
       "94, rue Ernest-Arsenault                                          1\n",
       "1021, place du Sablon                                             1\n",
       "211, rue des Érables                                              1\n",
       "2074, route 337                                                   1\n",
       "120, rue Desranleau                                               1\n",
       "3712, boulevard Béliveau                                          1\n",
       "3592, rue Paul-Archambault                                        1\n",
       "274, chemin de la Grande-Côte                                     1\n",
       "rue des Roses - Par les Constructions André Jacques inc.          1\n",
       "142, rue Lauder                                                   1\n",
       "520, 6e Avenue Sartignan                                          1\n",
       "302, route 138                                                    1\n",
       "190, rang des Vingt                                               1\n",
       "80, route de la Plage-du-Sault                                    1\n",
       "35, rue St-Jean Baptiste                                          1\n",
       "11955, 14e Avenue                                                 1\n",
       "2310, rue Verdi - Par Construction Serge Brouillette              1\n",
       "25, chemin Saint-Léon                                             1\n",
       "329, rue Lavigne                                                  1\n",
       "108, rue du Bassin - Par Les Constructions Francois Roberge       1\n",
       "25, rue Church                                                    1\n",
       "738, route St-Louis                                               1\n",
       "854, rue Arpin                                                    1\n",
       "608-A, rue Nérée Beauchemin                                       1\n",
       "Name: Address, Length: 19578, dtype: int64"
      ]
     },
     "execution_count": 9,
     "metadata": {},
     "output_type": "execute_result"
    }
   ],
   "source": [
    "df['Address'].value_counts()"
   ]
  },
  {
   "cell_type": "code",
   "execution_count": 48,
   "metadata": {},
   "outputs": [
    {
     "name": "stderr",
     "output_type": "stream",
     "text": [
      "/anaconda3/lib/python3.6/site-packages/ipykernel_launcher.py:1: UserWarning: This pattern has match groups. To actually get the groups, use str.extract.\n",
      "  \"\"\"Entry point for launching an IPython kernel.\n"
     ]
    },
    {
     "ename": "ValueError",
     "evalue": "cannot index with vector containing NA / NaN values",
     "output_type": "error",
     "traceback": [
      "\u001b[0;31m---------------------------------------------------------------------------\u001b[0m",
      "\u001b[0;31mValueError\u001b[0m                                Traceback (most recent call last)",
      "\u001b[0;32m<ipython-input-48-ed4f26a68900>\u001b[0m in \u001b[0;36m<module>\u001b[0;34m()\u001b[0m\n\u001b[0;32m----> 1\u001b[0;31m \u001b[0mdf\u001b[0m\u001b[0;34m[\u001b[0m\u001b[0mdf\u001b[0m\u001b[0;34m.\u001b[0m\u001b[0mAddress\u001b[0m\u001b[0;34m.\u001b[0m\u001b[0mstr\u001b[0m\u001b[0;34m.\u001b[0m\u001b[0mcontains\u001b[0m\u001b[0;34m(\u001b[0m\u001b[0;34m'([0-9]+,)(.*[a-zA-Z]+)'\u001b[0m\u001b[0;34m)\u001b[0m\u001b[0;34m.\u001b[0m\u001b[0mvalues\u001b[0m\u001b[0;34m]\u001b[0m\u001b[0;34m\u001b[0m\u001b[0m\n\u001b[0m",
      "\u001b[0;32m/anaconda3/lib/python3.6/site-packages/pandas/core/frame.py\u001b[0m in \u001b[0;36m__getitem__\u001b[0;34m(self, key)\u001b[0m\n\u001b[1;32m   2680\u001b[0m         \u001b[0;32mif\u001b[0m \u001b[0misinstance\u001b[0m\u001b[0;34m(\u001b[0m\u001b[0mkey\u001b[0m\u001b[0;34m,\u001b[0m \u001b[0;34m(\u001b[0m\u001b[0mSeries\u001b[0m\u001b[0;34m,\u001b[0m \u001b[0mnp\u001b[0m\u001b[0;34m.\u001b[0m\u001b[0mndarray\u001b[0m\u001b[0;34m,\u001b[0m \u001b[0mIndex\u001b[0m\u001b[0;34m,\u001b[0m \u001b[0mlist\u001b[0m\u001b[0;34m)\u001b[0m\u001b[0;34m)\u001b[0m\u001b[0;34m:\u001b[0m\u001b[0;34m\u001b[0m\u001b[0m\n\u001b[1;32m   2681\u001b[0m             \u001b[0;31m# either boolean or fancy integer index\u001b[0m\u001b[0;34m\u001b[0m\u001b[0;34m\u001b[0m\u001b[0m\n\u001b[0;32m-> 2682\u001b[0;31m             \u001b[0;32mreturn\u001b[0m \u001b[0mself\u001b[0m\u001b[0;34m.\u001b[0m\u001b[0m_getitem_array\u001b[0m\u001b[0;34m(\u001b[0m\u001b[0mkey\u001b[0m\u001b[0;34m)\u001b[0m\u001b[0;34m\u001b[0m\u001b[0m\n\u001b[0m\u001b[1;32m   2683\u001b[0m         \u001b[0;32melif\u001b[0m \u001b[0misinstance\u001b[0m\u001b[0;34m(\u001b[0m\u001b[0mkey\u001b[0m\u001b[0;34m,\u001b[0m \u001b[0mDataFrame\u001b[0m\u001b[0;34m)\u001b[0m\u001b[0;34m:\u001b[0m\u001b[0;34m\u001b[0m\u001b[0m\n\u001b[1;32m   2684\u001b[0m             \u001b[0;32mreturn\u001b[0m \u001b[0mself\u001b[0m\u001b[0;34m.\u001b[0m\u001b[0m_getitem_frame\u001b[0m\u001b[0;34m(\u001b[0m\u001b[0mkey\u001b[0m\u001b[0;34m)\u001b[0m\u001b[0;34m\u001b[0m\u001b[0m\n",
      "\u001b[0;32m/anaconda3/lib/python3.6/site-packages/pandas/core/frame.py\u001b[0m in \u001b[0;36m_getitem_array\u001b[0;34m(self, key)\u001b[0m\n\u001b[1;32m   2707\u001b[0m     \u001b[0;32mdef\u001b[0m \u001b[0m_getitem_array\u001b[0m\u001b[0;34m(\u001b[0m\u001b[0mself\u001b[0m\u001b[0;34m,\u001b[0m \u001b[0mkey\u001b[0m\u001b[0;34m)\u001b[0m\u001b[0;34m:\u001b[0m\u001b[0;34m\u001b[0m\u001b[0m\n\u001b[1;32m   2708\u001b[0m         \u001b[0;31m# also raises Exception if object array with NA values\u001b[0m\u001b[0;34m\u001b[0m\u001b[0;34m\u001b[0m\u001b[0m\n\u001b[0;32m-> 2709\u001b[0;31m         \u001b[0;32mif\u001b[0m \u001b[0mcom\u001b[0m\u001b[0;34m.\u001b[0m\u001b[0mis_bool_indexer\u001b[0m\u001b[0;34m(\u001b[0m\u001b[0mkey\u001b[0m\u001b[0;34m)\u001b[0m\u001b[0;34m:\u001b[0m\u001b[0;34m\u001b[0m\u001b[0m\n\u001b[0m\u001b[1;32m   2710\u001b[0m             \u001b[0;31m# warning here just in case -- previously __setitem__ was\u001b[0m\u001b[0;34m\u001b[0m\u001b[0;34m\u001b[0m\u001b[0m\n\u001b[1;32m   2711\u001b[0m             \u001b[0;31m# reindexing but __getitem__ was not; it seems more reasonable to\u001b[0m\u001b[0;34m\u001b[0m\u001b[0;34m\u001b[0m\u001b[0m\n",
      "\u001b[0;32m/anaconda3/lib/python3.6/site-packages/pandas/core/common.py\u001b[0m in \u001b[0;36mis_bool_indexer\u001b[0;34m(key)\u001b[0m\n\u001b[1;32m    105\u001b[0m             \u001b[0;32mif\u001b[0m \u001b[0;32mnot\u001b[0m \u001b[0mlib\u001b[0m\u001b[0;34m.\u001b[0m\u001b[0mis_bool_array\u001b[0m\u001b[0;34m(\u001b[0m\u001b[0mkey\u001b[0m\u001b[0;34m)\u001b[0m\u001b[0;34m:\u001b[0m\u001b[0;34m\u001b[0m\u001b[0m\n\u001b[1;32m    106\u001b[0m                 \u001b[0;32mif\u001b[0m \u001b[0misna\u001b[0m\u001b[0;34m(\u001b[0m\u001b[0mkey\u001b[0m\u001b[0;34m)\u001b[0m\u001b[0;34m.\u001b[0m\u001b[0many\u001b[0m\u001b[0;34m(\u001b[0m\u001b[0;34m)\u001b[0m\u001b[0;34m:\u001b[0m\u001b[0;34m\u001b[0m\u001b[0m\n\u001b[0;32m--> 107\u001b[0;31m                     raise ValueError('cannot index with vector containing '\n\u001b[0m\u001b[1;32m    108\u001b[0m                                      'NA / NaN values')\n\u001b[1;32m    109\u001b[0m                 \u001b[0;32mreturn\u001b[0m \u001b[0;32mFalse\u001b[0m\u001b[0;34m\u001b[0m\u001b[0m\n",
      "\u001b[0;31mValueError\u001b[0m: cannot index with vector containing NA / NaN values"
     ]
    }
   ],
   "source": [
    "df[df.Address.str.contains('([0-9]+,)(.*[a-zA-Z]+)').values]"
   ]
  },
  {
   "cell_type": "code",
   "execution_count": null,
   "metadata": {},
   "outputs": [],
   "source": []
  },
  {
   "cell_type": "code",
   "execution_count": null,
   "metadata": {},
   "outputs": [],
   "source": []
  },
  {
   "cell_type": "code",
   "execution_count": null,
   "metadata": {},
   "outputs": [],
   "source": []
  }
 ],
 "metadata": {
  "kernelspec": {
   "display_name": "Python 3",
   "language": "python",
   "name": "python3"
  },
  "language_info": {
   "codemirror_mode": {
    "name": "ipython",
    "version": 3
   },
   "file_extension": ".py",
   "mimetype": "text/x-python",
   "name": "python",
   "nbconvert_exporter": "python",
   "pygments_lexer": "ipython3",
   "version": "3.6.6"
  }
 },
 "nbformat": 4,
 "nbformat_minor": 2
}
